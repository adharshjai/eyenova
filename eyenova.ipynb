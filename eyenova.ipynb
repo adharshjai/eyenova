{
  "cells": [
    {
      "cell_type": "code",
      "execution_count": null,
      "metadata": {
        "colab": {
          "base_uri": "https://localhost:8080/"
        },
        "collapsed": true,
        "id": "kn3OIiR-0YwP",
        "outputId": "d056e94f-7aa8-471f-a42b-92c758bbd0cb"
      },
      "outputs": [],
      "source": [
        "!pip install tensorflow streamlit pyngrok Pillow"
      ]
    },
    {
      "cell_type": "code",
      "execution_count": null,
      "metadata": {
        "id": "lCxNfuRTFjbz"
      },
      "outputs": [],
      "source": [
        "import tensorflow as tf\n",
        "from tensorflow.keras.preprocessing.image import ImageDataGenerator\n",
        "from tensorflow.keras.utils import load_img, img_to_array\n",
        "from tensorflow.keras.applications import ResNet50\n",
        "from tensorflow.keras.models import Sequential\n",
        "from tensorflow.keras.layers import Dense, Flatten, Dropout, GlobalAveragePooling2D\n",
        "from tensorflow.keras.optimizers import Adam\n",
        "import numpy as np\n",
        "from PIL import Image\n",
        "import os"
      ]
    },
    {
      "cell_type": "code",
      "execution_count": null,
      "metadata": {},
      "outputs": [],
      "source": [
        "pip install --upgrade google-auth google-auth-oauthlib google-auth-httplib2 google-api-python-client"
      ]
    },
    {
      "cell_type": "code",
      "execution_count": null,
      "metadata": {
        "colab": {
          "base_uri": "https://localhost:8080/"
        },
        "collapsed": true,
        "id": "3-oaUUEaD1Ek",
        "outputId": "81518a12-c251-42b3-cdf4-2e769fcb9ea3"
      },
      "outputs": [],
      "source": [
        "import os\n",
        "\n",
        "base_dir = os.path.expanduser(\"C:/Users/adhar/Downloads/eyenova/kayser_fleischer\")\n",
        "train_dir = os.path.join(base_dir, \"train\")\n",
        "val_dir = os.path.join(base_dir, \"val\")\n",
        "test_dir = os.path.join(base_dir, \"test\")"
      ]
    },
    {
      "cell_type": "code",
      "execution_count": null,
      "metadata": {
        "colab": {
          "base_uri": "https://localhost:8080/"
        },
        "collapsed": true,
        "id": "dvZ2Hvz9F_kH",
        "outputId": "95f4e176-bba5-41d6-89a8-2a28a3b4cedf"
      },
      "outputs": [],
      "source": [
        "import tensorflow as tf\n",
        "from tensorflow.keras.preprocessing.image import ImageDataGenerator\n",
        "\n",
        "def preprocess_input(image):\n",
        "    try:\n",
        "        return tf.image.resize(image, (224, 224)) / 255.0\n",
        "    except Exception as e:\n",
        "        print(f\"Error processing image: {e}\")\n",
        "        return None\n",
        "\n",
        "train_datagen = ImageDataGenerator(\n",
        "    rescale=1./255,\n",
        "    preprocessing_function=preprocess_input,\n",
        "    rotation_range=40,\n",
        "    width_shift_range=0.2,\n",
        "    height_shift_range=0.2,\n",
        "    zoom_range=0.2,\n",
        "    horizontal_flip=True,\n",
        "    fill_mode= 'nearest'\n",
        ")\n",
        "\n",
        "val_datagen = ImageDataGenerator(rescale=1./255, preprocessing_function=preprocess_input)\n",
        "test_datagen = ImageDataGenerator(rescale=1./255, preprocessing_function=preprocess_input)\n",
        "\n",
        "\n",
        "# Data generators\n",
        "train_generator = train_datagen.flow_from_directory(\n",
        "    train_dir,\n",
        "    target_size=(224, 224),\n",
        "    batch_size=32,\n",
        "    class_mode='binary',\n",
        "    shuffle=True\n",
        ")\n",
        "\n",
        "val_generator = val_datagen.flow_from_directory(\n",
        "    val_dir,\n",
        "    target_size=(224, 224),\n",
        "    batch_size=32,\n",
        "    class_mode='binary'\n",
        ")\n",
        "\n",
        "test_generator = test_datagen.flow_from_directory(\n",
        "    test_dir,\n",
        "    target_size=(224, 224),\n",
        "    batch_size=32,\n",
        "    class_mode='binary'\n",
        ")"
      ]
    },
    {
      "cell_type": "code",
      "execution_count": null,
      "metadata": {
        "colab": {
          "base_uri": "https://localhost:8080/",
          "height": 305
        },
        "collapsed": true,
        "id": "EcdOzFTuGAzG",
        "outputId": "ea433c22-939b-40cc-896a-f9d7f154d71e"
      },
      "outputs": [],
      "source": [
        "base_model = ResNet50(weights='imagenet', include_top=False, input_shape=(224, 224, 3))\n",
        "\n",
        "for layer in base_model.layers:\n",
        "    layer.trainable = False\n",
        "\n",
        "model = Sequential([\n",
        "    base_model,\n",
        "    GlobalAveragePooling2D(),\n",
        "    Dense(256, activation='relu'),\n",
        "    Dropout(0.5),\n",
        "    Dense(1, activation='sigmoid')  # binary classification\n",
        "])\n",
        "\n",
        "model.compile(optimizer=Adam(learning_rate=0.001), loss='binary_crossentropy', metrics=['accuracy'])\n",
        "\n",
        "model.summary()"
      ]
    },
    {
      "cell_type": "code",
      "execution_count": null,
      "metadata": {
        "colab": {
          "base_uri": "https://localhost:8080/"
        },
        "collapsed": true,
        "id": "BaFQTO5pGD_B",
        "outputId": "2c061f5e-9e76-4952-8815-2c5c88a0ca34"
      },
      "outputs": [],
      "source": [
        "print(train_generator.samples)\n",
        "print(val_generator.samples)\n",
        "print(test_generator.samples)\n",
        "\n",
        "steps_per_epoch = train_generator.samples // train_generator.batch_size\n",
        "\n",
        "validation_steps = val_generator.samples // val_generator.batch_size\n",
        "\n",
        "history = model.fit(\n",
        "    train_generator,\n",
        "    validation_data=val_generator,\n",
        "    epochs=10,\n",
        "    steps_per_epoch=steps_per_epoch,\n",
        "    validation_steps=validation_steps,\n",
        "    class_weight={1:31.5, 0:1}\n",
        ")"
      ]
    },
    {
      "cell_type": "code",
      "execution_count": null,
      "metadata": {
        "colab": {
          "base_uri": "https://localhost:8080/"
        },
        "id": "gAJNDtbEGGDN",
        "outputId": "03b8de26-1e07-4c83-f78d-6fac2a5b6e7f"
      },
      "outputs": [],
      "source": [
        "model.save('kfr_model.h5')"
      ]
    },
    {
      "cell_type": "code",
      "execution_count": null,
      "metadata": {
        "colab": {
          "base_uri": "https://localhost:8080/"
        },
        "collapsed": true,
        "id": "6S3_pc4MGH_s",
        "outputId": "55a83bc3-0783-4f2c-be1b-6741591890e5"
      },
      "outputs": [],
      "source": [
        "loss, accuracy = model.evaluate(test_generator)\n",
        "print(f\"Test Accuracy: {accuracy * 100:.2f}%\")"
      ]
    },
    {
      "cell_type": "code",
      "execution_count": null,
      "metadata": {
        "colab": {
          "base_uri": "https://localhost:8080/",
          "height": 357
        },
        "id": "f_gARPdSyz4y",
        "outputId": "01e07e37-c31f-4940-a759-ef8e072c4e3a"
      },
      "outputs": [],
      "source": [
        "#GLAUCOMA CLASSIFICATION\n",
        "\n",
        "from tensorflow.keras.applications import ResNet50\n",
        "from tensorflow.keras.models import Sequential\n",
        "from tensorflow.keras.layers import Dense, Dropout, GlobalAveragePooling2D\n",
        "from tensorflow.keras.optimizers import Adam\n",
        "from tensorflow.keras.preprocessing.image import ImageDataGenerator\n",
        "\n",
        "glaucoma_base_dir = 'C:/Users/adhar/Downloads/eyenova/glaucoma'\n",
        "glaucoma_train_dir = os.path.join(glaucoma_base_dir, \"train\")\n",
        "glaucoma_val_dir = os.path.join(glaucoma_base_dir, \"val\")\n",
        "glaucoma_test_dir = os.path.join(glaucoma_base_dir, \"test\")\n",
        "\n",
        "glaucoma_train_datagen = ImageDataGenerator(\n",
        "    rescale=1./255,\n",
        "    rotation_range=20,\n",
        "    width_shift_range=0.2,\n",
        "    height_shift_range=0.2,\n",
        "    zoom_range=0.2,\n",
        "    horizontal_flip=True\n",
        ")\n",
        "\n",
        "glaucoma_val_datagen = ImageDataGenerator(rescale=1./255)\n",
        "glaucoma_test_datagen = ImageDataGenerator(rescale=1./255)\n",
        "glaucoma_train_generator = glaucoma_train_datagen.flow_from_directory(\n",
        "    glaucoma_train_dir, target_size=(224, 224), batch_size=32, class_mode='binary'\n",
        ")\n",
        "glaucoma_val_generator = glaucoma_val_datagen.flow_from_directory(\n",
        "    glaucoma_val_dir, target_size=(224, 224), batch_size=32, class_mode='binary'\n",
        ")\n",
        "glaucoma_test_generator = glaucoma_test_datagen.flow_from_directory(\n",
        "    glaucoma_test_dir, target_size=(224, 224), batch_size=32, class_mode='binary',\n",
        "    shuffle=False\n",
        ")\n",
        "\n",
        "base_model = ResNet50(weights='imagenet', include_top=False, input_shape=(224, 224, 3))\n",
        "\n",
        "for layer in base_model.layers:\n",
        "    layer.trainable = False\n",
        "\n",
        "glaucoma_model = Sequential([\n",
        "    base_model,\n",
        "    GlobalAveragePooling2D(),\n",
        "    Dense(256, activation='relu'),\n",
        "    Dropout(0.5),\n",
        "    Dense(1, activation='sigmoid')\n",
        "])\n",
        "\n",
        "\n",
        "glaucoma_model.compile(\n",
        "    optimizer=Adam(learning_rate=0.001),\n",
        "    loss='binary_crossentropy',\n",
        "    metrics=['accuracy']\n",
        ")\n",
        "\n",
        "glaucoma_model.summary()"
      ]
    },
    {
      "cell_type": "code",
      "execution_count": null,
      "metadata": {
        "colab": {
          "base_uri": "https://localhost:8080/"
        },
        "id": "_0ofWGyJGE2s",
        "outputId": "7dbda8ca-4c9c-4442-dd06-ac571de3f7bc"
      },
      "outputs": [],
      "source": [
        "history = glaucoma_model.fit(\n",
        "    glaucoma_train_generator,\n",
        "    validation_data=glaucoma_val_generator,\n",
        "    epochs=10,\n",
        "    steps_per_epoch=glaucoma_train_generator.samples // 32,\n",
        "    validation_steps=glaucoma_val_generator.samples // 32\n",
        ")"
      ]
    },
    {
      "cell_type": "code",
      "execution_count": null,
      "metadata": {
        "colab": {
          "base_uri": "https://localhost:8080/"
        },
        "id": "1j1BLflsJs2Q",
        "outputId": "cafb48b2-7df8-47a1-851b-10ed9a351c6e"
      },
      "outputs": [],
      "source": [
        "glaucoma_model.save('glaucoma_model.h5')"
      ]
    },
    {
      "cell_type": "code",
      "execution_count": null,
      "metadata": {
        "colab": {
          "base_uri": "https://localhost:8080/"
        },
        "id": "NUoI93iQB0Yr",
        "outputId": "11469402-3701-402e-b5fb-5b1f0001d046"
      },
      "outputs": [],
      "source": [
        "loss, accuracy = model.evaluate(glaucoma_test_generator)\n",
        "print(f\"Test Accuracy: {accuracy * 100:.2f}%\")"
      ]
    },
    {
      "cell_type": "code",
      "execution_count": null,
      "metadata": {},
      "outputs": [],
      "source": [
        "import os\n",
        "print(os.getcwd())"
      ]
    }
  ],
  "metadata": {
    "colab": {
      "provenance": []
    },
    "kernelspec": {
      "display_name": "mlenv",
      "language": "python",
      "name": "python3"
    },
    "language_info": {
      "codemirror_mode": {
        "name": "ipython",
        "version": 3
      },
      "file_extension": ".py",
      "mimetype": "text/x-python",
      "name": "python",
      "nbconvert_exporter": "python",
      "pygments_lexer": "ipython3",
      "version": "3.12.4"
    }
  },
  "nbformat": 4,
  "nbformat_minor": 0
}
